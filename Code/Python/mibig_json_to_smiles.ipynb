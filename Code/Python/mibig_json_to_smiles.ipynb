{
 "cells": [
  {
   "cell_type": "markdown",
   "metadata": {},
   "source": [
    "# MIBiG JSON -> SMILES"
   ]
  },
  {
   "cell_type": "markdown",
   "metadata": {},
   "source": [
    "Load MIBiG database in JSON format and extract the predicted SMILES (either already stored in the json file or retrieved from PubChem)."
   ]
  },
  {
   "cell_type": "code",
   "execution_count": 4,
   "metadata": {
    "collapsed": false
   },
   "outputs": [
    {
     "name": "stdout",
     "output_type": "stream",
     "text": [
      "The autoreload extension is already loaded. To reload it, use:\n",
      "  %reload_ext autoreload\n"
     ]
    }
   ],
   "source": [
    "%load_ext autoreload\n",
    "%autoreload 2\n",
    "\n",
    "%matplotlib inline\n"
   ]
  },
  {
   "cell_type": "code",
   "execution_count": 7,
   "metadata": {
    "collapsed": false
   },
   "outputs": [],
   "source": [
    "import os\n",
    "from glob import glob\n",
    "import json\n",
    "\n",
    "import sys\n",
    "sys.path.append('/Users/joewandy/anaconda/envs/mfgcf/lib/python2.7/site-packages')\n",
    "from pubchempy import *"
   ]
  },
  {
   "cell_type": "code",
   "execution_count": 8,
   "metadata": {
    "collapsed": true
   },
   "outputs": [],
   "source": [
    "input_dir = '/Users/joewandy/Dropbox/Meta_clustering/MS2LDA/BGC/data/mibig_json_1.3/'"
   ]
  },
  {
   "cell_type": "code",
   "execution_count": 9,
   "metadata": {
    "collapsed": true
   },
   "outputs": [],
   "source": [
    "def get_isomeric_smiles(prop):\n",
    "    for prop in pubchem_compound.record['props']:\n",
    "        urn = prop['urn']\n",
    "        if 'name' in urn and urn['name'] == 'Isomeric' and urn['label'] == 'SMILES':\n",
    "            smiles = prop['value']['sval']\n",
    "            return smiles"
   ]
  },
  {
   "cell_type": "markdown",
   "metadata": {},
   "source": [
    "Sometimes the MIBiG json doesn't contain the chemical structure (SMILES), but it has the pubchem id. In this case, we can fetch this information from pubchem."
   ]
  },
  {
   "cell_type": "code",
   "execution_count": 11,
   "metadata": {
    "collapsed": false,
    "scrolled": true
   },
   "outputs": [
    {
     "name": "stdout",
     "output_type": "stream",
     "text": [
      "<open file '/Users/joewandy/Dropbox/Meta_clustering/MS2LDA/BGC/data/mibig_json_1.3/BGC0000001.json', mode 'r' at 0x1130f0660>\n"
     ]
    }
   ],
   "source": [
    "data = []\n",
    "json_files = glob(os.path.join(input_dir, '*.json'))\n",
    "for fn in sorted(json_files):\n",
    "    with open(fn, 'r') as f:\n",
    "        \n",
    "        d = json.load(f)    \n",
    "        \n",
    "        bgc_id = os.path.basename(fn).split('.')[0]\n",
    "        compounds = d['general_params']['compounds']\n",
    "        for c in compounds:\n",
    "            compound_name = bgc_id + '_' + c['compound'].lower().replace(' ', '_')\n",
    "            if 'chem_struct' in c:\n",
    "                smiles = c['chem_struct']\n",
    "            elif 'pubchem_id' in c:\n",
    "                try:\n",
    "                    pubchem_id = c['pubchem_id']\n",
    "                    pubchem_compound = Compound.from_cid(pubchem_id)\n",
    "                    props = pubchem_compound.record['props']\n",
    "                    smiles = get_isomeric_smiles(props)\n",
    "                except NotFoundError:\n",
    "                    smiles = None\n",
    "                    \n",
    "            if smiles is not None:\n",
    "                row = (compound_name, smiles,)\n",
    "#                 print row\n",
    "                data.append(row)\n",
    "                if len(data) % 100 == 0:\n",
    "                    print len(data), '/', len(json_files)"
   ]
  },
  {
   "cell_type": "markdown",
   "metadata": {},
   "source": [
    "Export the results to csv"
   ]
  },
  {
   "cell_type": "code",
   "execution_count": 6,
   "metadata": {
    "collapsed": true
   },
   "outputs": [],
   "source": [
    "import pandas as pd\n",
    "df = pd.DataFrame(data, columns=['mol', 'smiles'])\n",
    "df.to_csv('smiles.csv', sep=' ', header=None, index=False)"
   ]
  }
 ],
 "metadata": {
  "kernelspec": {
   "display_name": "Python [default]",
   "language": "python",
   "name": "python2"
  },
  "language_info": {
   "codemirror_mode": {
    "name": "ipython",
    "version": 2
   },
   "file_extension": ".py",
   "mimetype": "text/x-python",
   "name": "python",
   "nbconvert_exporter": "python",
   "pygments_lexer": "ipython2",
   "version": "2.7.13"
  }
 },
 "nbformat": 4,
 "nbformat_minor": 2
}
